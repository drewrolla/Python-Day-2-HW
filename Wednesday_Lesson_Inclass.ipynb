{
 "cells": [
  {
   "cell_type": "markdown",
   "metadata": {},
   "source": [
    "# Data Collections 2 (Dictionaries, Sets) and Importing Modules"
   ]
  },
  {
   "cell_type": "markdown",
   "metadata": {},
   "source": [
    "## Tasks Today:\n",
    "1) Functions <br>\n",
    " &nbsp;&nbsp;&nbsp;&nbsp; a) User-Defined vs. Built-In Functions <br>\n",
    " &nbsp;&nbsp;&nbsp;&nbsp; b) Accepting Parameters <br>\n",
    " &nbsp;&nbsp;&nbsp;&nbsp; c) Default Parameters <br>\n",
    " &nbsp;&nbsp;&nbsp;&nbsp; d) Making an Argument Optional <br>\n",
    " &nbsp;&nbsp;&nbsp;&nbsp; e) Keyword Arguments <br>\n",
    " &nbsp;&nbsp;&nbsp;&nbsp; f) Returning Values <br>\n",
    " &nbsp;&nbsp;&nbsp;&nbsp; g) *args <br>\n",
    " &nbsp;&nbsp;&nbsp;&nbsp; h) Docstring <br>\n",
    " &nbsp;&nbsp;&nbsp;&nbsp; i) Using a User Function in a Loop <br>\n",
    "2) Scope\n",
    "3) Dictionary <br>\n",
    " &nbsp;&nbsp;&nbsp;&nbsp; a) Declaring (key, value) <br>\n",
    " &nbsp;&nbsp;&nbsp;&nbsp; b) Accessing Values <br>\n",
    " &nbsp;&nbsp;&nbsp;&nbsp; ------ Exercise #1 - Print the eye color of each person in a double nested dict <br>\n",
    " &nbsp;&nbsp;&nbsp;&nbsp; c) Adding New Pairs <br>\n",
    " &nbsp;&nbsp;&nbsp;&nbsp; d) Modifying Values <br>\n",
    " &nbsp;&nbsp;&nbsp;&nbsp; e) Removing Key, Value Pairs <br>\n",
    " &nbsp;&nbsp;&nbsp;&nbsp; f) Looping a Dictionary <br>\n",
    " &nbsp;&nbsp;&nbsp;&nbsp; g) Looping Only Keys <br>\n",
    " &nbsp;&nbsp;&nbsp;&nbsp; h) Looping Only Values <br>\n",
    " &nbsp;&nbsp;&nbsp;&nbsp; ------ Exercise #2 - Create a Function that Prints All Key Value Pairs within a print .format()  <br>\n",
    " &nbsp;&nbsp;&nbsp;&nbsp; i) sorted() <br>\n",
    " &nbsp;&nbsp;&nbsp;&nbsp; j) Lists with Dictionaries <br>\n",
    " &nbsp;&nbsp;&nbsp;&nbsp; k) Dictionaries with Lists <br>\n",
    " &nbsp;&nbsp;&nbsp;&nbsp; l) Dictionaries with Dictionaries <br>\n",
    " &nbsp;&nbsp;&nbsp;&nbsp; ------ Exercise #3 - Write a Function that asks someone's name and address, and then stores that into a dictionary, which prints all names and addresses after they're done putting information in...  <br>\n",
    "4) Dictionaries vs. Lists (over time)<br>\n",
    "5) Set <br>\n",
    " &nbsp;&nbsp;&nbsp;&nbsp; a) Declaring <br>\n",
    " &nbsp;&nbsp;&nbsp;&nbsp; b) .add() <br>\n",
    " &nbsp;&nbsp;&nbsp;&nbsp; c) .remove() <br>\n",
    " &nbsp;&nbsp;&nbsp;&nbsp; d) .union() <br>\n",
    " &nbsp;&nbsp;&nbsp;&nbsp; e) .intersection() <br>\n",
    " &nbsp;&nbsp;&nbsp;&nbsp; f) .difference() <br>\n",
    " &nbsp;&nbsp;&nbsp;&nbsp; g) Frozen Set <br>\n",
    "6) Modules <br>\n",
    " &nbsp;&nbsp;&nbsp;&nbsp; a) Importing Entire Modules <br>\n",
    " &nbsp;&nbsp;&nbsp;&nbsp; b) Importing Methods Only <br>\n",
    " &nbsp;&nbsp;&nbsp;&nbsp; c) Using the 'as' Keyword <br>\n",
    " &nbsp;&nbsp;&nbsp;&nbsp; d) Creating a Module <br>\n",
    "7) Exercises <br>\n",
    " &nbsp;&nbsp;&nbsp;&nbsp; a) Build a Shopping Cart <br>\n",
    " &nbsp;&nbsp;&nbsp;&nbsp; b) Create Your Own Module <br>"
   ]
  },
  {
   "cell_type": "markdown",
   "metadata": {},
   "source": [
    "## Functions"
   ]
  },
  {
   "cell_type": "markdown",
   "metadata": {},
   "source": [
    "##### User-Defined vs. Built-In Functions"
   ]
  },
  {
   "cell_type": "code",
   "execution_count": 1,
   "metadata": {},
   "outputs": [
    {
     "data": {
      "text/plain": [
       "'Hello World'"
      ]
     },
     "execution_count": 1,
     "metadata": {},
     "output_type": "execute_result"
    }
   ],
   "source": [
    "# user defined function\n",
    "def myFuncName():\n",
    "\n",
    "    return \"Hello World\"\n",
    "\n",
    "myFuncName()"
   ]
  },
  {
   "cell_type": "markdown",
   "metadata": {},
   "source": [
    "##### Accepting Parameters"
   ]
  },
  {
   "cell_type": "code",
   "execution_count": 3,
   "metadata": {},
   "outputs": [
    {
     "data": {
      "text/plain": [
       "'Wong Andrew'"
      ]
     },
     "execution_count": 3,
     "metadata": {},
     "output_type": "execute_result"
    }
   ],
   "source": [
    "# order matters\n",
    "def printFullName(firstName, lastName): # parameter order matters yes i repeated it\n",
    "    fullName = firstName + ' ' + lastName\n",
    "    return fullName.title()\n",
    "    \n",
    "printFullName('wong', 'andrew')"
   ]
  },
  {
   "cell_type": "markdown",
   "metadata": {},
   "source": [
    "##### Default Parameters"
   ]
  },
  {
   "cell_type": "code",
   "execution_count": 5,
   "metadata": {},
   "outputs": [
    {
     "name": "stdout",
     "output_type": "stream",
     "text": [
      "You made a mango and kiwi smoothie!\n"
     ]
    }
   ],
   "source": [
    "def blender(fruit1, fruit2='kiwi'): # can define default parameters, default must be at the end though otherwise will get error\n",
    "    output = f'You made a {fruit1} and {fruit2} smoothie!'\n",
    "    print(output)\n",
    "\n",
    "blender('mango') # can override default parameters"
   ]
  },
  {
   "cell_type": "markdown",
   "metadata": {},
   "source": [
    "##### Making an Argument Optional"
   ]
  },
  {
   "cell_type": "code",
   "execution_count": 4,
   "metadata": {},
   "outputs": [
    {
     "data": {
      "text/plain": [
       "'James  Bond'"
      ]
     },
     "execution_count": 4,
     "metadata": {},
     "output_type": "execute_result"
    }
   ],
   "source": [
    "def secretAgentName(firstName, lastName = 'Bond', middleName=''):\n",
    "    newName = f'{firstName} {middleName} {lastName}'\n",
    "    return newName\n",
    "\n",
    "secretAgentName('James')"
   ]
  },
  {
   "cell_type": "markdown",
   "metadata": {},
   "source": [
    "##### Keyword Arguments"
   ]
  },
  {
   "cell_type": "code",
   "execution_count": 7,
   "metadata": {},
   "outputs": [
    {
     "data": {
      "text/plain": [
       "'James Eugene Bond'"
      ]
     },
     "execution_count": 7,
     "metadata": {},
     "output_type": "execute_result"
    }
   ],
   "source": [
    "# last_name='Max', first_name='Smith' in the function call\n",
    "def secretAgentName(firstName, lastName = 'Bond', middleName=''):\n",
    "    newName = f'{firstName} {middleName} {lastName}'\n",
    "    return newName\n",
    "\n",
    "secretAgentName('James', middleName='Eugene')\n",
    "# see above"
   ]
  },
  {
   "cell_type": "markdown",
   "metadata": {},
   "source": [
    "# Creating a start, stop, step function"
   ]
  },
  {
   "cell_type": "code",
   "execution_count": 10,
   "metadata": {},
   "outputs": [
    {
     "data": {
      "text/plain": [
       "[10, 13]"
      ]
     },
     "execution_count": 10,
     "metadata": {},
     "output_type": "execute_result"
    }
   ],
   "source": [
    "# my version of the range function\n",
    "def myRange(start, stop=0, step=1):\n",
    "    if stop == 0:\n",
    "        stop = start\n",
    "        start = 0\n",
    "    output = []\n",
    "    while start < stop:\n",
    "        output.append(start)\n",
    "        start += step\n",
    "    return output\n",
    "\n",
    "myRange(10, 15, 3)"
   ]
  },
  {
   "cell_type": "markdown",
   "metadata": {},
   "source": [
    "##### Returning Values"
   ]
  },
  {
   "cell_type": "code",
   "execution_count": 5,
   "metadata": {},
   "outputs": [
    {
     "data": {
      "text/plain": [
       "'80.0 is the higher average (average2)'"
      ]
     },
     "execution_count": 5,
     "metadata": {},
     "output_type": "execute_result"
    }
   ],
   "source": [
    "# see above\n",
    "# create a function that takes in two sets of grades, and return the grades that have the higher GPA\n",
    "def compareStudents(grades1, grades2):\n",
    "    avg1 = sum(grades1)/len(grades1)\n",
    "    avg2 = sum(grades2)/len(grades2)\n",
    "    if avg1 > avg2:\n",
    "        return f\"{avg1} is the higher average (average1)\"\n",
    "    elif avg1 < avg2:\n",
    "        return f\"{avg2} is the higher average (average2)\"\n",
    "    else:\n",
    "        return \"They have the same grades.\"\n",
    "\n",
    "shoha = [99, 34, 87, 46, 55, 23, 100]\n",
    "brandt = [100, 102, 69, 73, 44, 92]\n",
    "\n",
    "compareStudents(shoha, brandt)"
   ]
  },
  {
   "cell_type": "markdown",
   "metadata": {},
   "source": [
    "##### *args"
   ]
  },
  {
   "cell_type": "code",
   "execution_count": 12,
   "metadata": {},
   "outputs": [
    {
     "name": "stdout",
     "output_type": "stream",
     "text": [
      "23\n",
      "12\n",
      "(999, 2345, 'andrew', True, False, 'bizza')\n",
      "{'name': 'bob', 'food': 'halo halo', 'age': 69}\n"
     ]
    }
   ],
   "source": [
    "def printArgs(num1, num2, *args, **kwargs):\n",
    "    print(num1)\n",
    "    print(num2)\n",
    "    for arg in args:\n",
    "        print(args) # this will create a tuple\n",
    "    for key in kwargs:\n",
    "        print(kwargs) # this will create a dictionary\n",
    "\n",
    "\n",
    "printArgs(23, 12, 999, 2345, \"andrew\", True, False, \"bizza\", name=\"bob\", food=\"halo halo\", age=69)"
   ]
  },
  {
   "cell_type": "markdown",
   "metadata": {},
   "source": [
    "##### Docstring"
   ]
  },
  {
   "cell_type": "code",
   "execution_count": null,
   "metadata": {},
   "outputs": [],
   "source": [
    "def printNames(list_of_names):\n",
    "    ''' \n",
    "    printNames(list_of_names)\n",
    "    This function requires a list to be passed in as an argument and will print the contents of the list.\n",
    "    Expecting a list of names (strings) to be passed in.\n",
    "    ''' # above is useful for showing what something does using help()\n",
    "    for name in list_of_names:\n",
    "        print(name)\n",
    "    return"
   ]
  },
  {
   "cell_type": "markdown",
   "metadata": {},
   "source": [
    "##### Using a User Function in a Loop"
   ]
  },
  {
   "cell_type": "code",
   "execution_count": null,
   "metadata": {},
   "outputs": [],
   "source": [
    "def askUser():\n",
    "    answer = input(\"What would you like to do? (Buy/Sell/Quit)\")\n",
    "    return answer.lower()\n",
    "\n",
    "def runSimulation():\n",
    "    while True:\n",
    "        ans = askUser()\n",
    "        if ans == 'quit':\n",
    "            print(\"Thanks for playing!\")\n",
    "            break\n",
    "        elif ans == 'buy':\n",
    "            print('Ch-ching! Money well spent.')\n",
    "        elif ans == 'sell':\n",
    "            print('Never sell. Always buy, wtfu doing?')\n",
    "        else:\n",
    "            print('Invalid input. Please enter one of the options: (Buy/Sell/Quit)')\n",
    "\n",
    "runSimulation()\n",
    "\n"
   ]
  },
  {
   "cell_type": "markdown",
   "metadata": {},
   "source": [
    "## Function Exercise <br>\n",
    "<p>Write a function that loops through a list of first_names and a list of last_names, combines the two and return a list of full_names</p>"
   ]
  },
  {
   "cell_type": "code",
   "execution_count": 23,
   "metadata": {},
   "outputs": [
    {
     "name": "stdout",
     "output_type": "stream",
     "text": [
      "['John Smith', 'Evan Smith', 'Jordan Williams', 'Max Bell']\n"
     ]
    }
   ],
   "source": [
    "first_name = ['John', 'Evan', 'Jordan', 'Max']\n",
    "last_name = ['Smith', 'Smith', 'Williams', 'Bell']\n",
    "\n",
    "# Output: ['John Smith', 'Evan Smith', 'Jordan Williams', 'Max Bell']\n",
    "def combineNames(firsts, lasts):\n",
    "    fulls = []\n",
    "    for index in range(len(firsts)):\n",
    "        full_name = firsts[index] + ' ' + lasts[index]\n",
    "        fulls.append(full_name)\n",
    "    return fulls\n",
    "\n",
    "combineNames(first_name, last_name)\n",
    "    \n",
    "def combineNamesLC(f, l):\n",
    "    return [f[index]+' '+l[index] for index in range(len(f))]\n",
    "\n",
    "print(combineNamesLC(first_name, last_name))"
   ]
  },
  {
   "cell_type": "markdown",
   "metadata": {},
   "source": [
    "## Scope <br>\n",
    "<p>Scope refers to the ability to access variables, different types of scope include:<br>a) Global<br>b) Function (local)<br>c) Class (local)</p>"
   ]
  },
  {
   "cell_type": "code",
   "execution_count": 26,
   "metadata": {},
   "outputs": [
    {
     "name": "stdout",
     "output_type": "stream",
     "text": [
      "3\n",
      "3 inner\n"
     ]
    }
   ],
   "source": [
    "number = 3\n",
    "def myFunc():\n",
    "    number2 = 4 # local variable\n",
    "    print(number, 'inner')\n",
    "\n",
    "print(number)\n",
    "myFunc()"
   ]
  },
  {
   "cell_type": "markdown",
   "metadata": {},
   "source": [
    "## Dictionary <br>\n",
    "<p>A collection of data with 'key:value' pairs. Dictionaries are ordered as of Python 3.6</p>"
   ]
  },
  {
   "cell_type": "markdown",
   "metadata": {},
   "source": [
    "##### Declaring (key, value)"
   ]
  },
  {
   "cell_type": "code",
   "execution_count": 28,
   "metadata": {},
   "outputs": [
    {
     "data": {
      "text/plain": [
       "dict"
      ]
     },
     "execution_count": 28,
     "metadata": {},
     "output_type": "execute_result"
    }
   ],
   "source": [
    "d1 = {}\n",
    "d2 = dict()\n",
    "d3 = {\n",
    "    \"name\": \"Andrew\",\n",
    "    \"age\": 9000,\n",
    "    \"grades\": [99, 100, 99, 98],\n",
    "    \"classes\": {\n",
    "        'part-time': ['Vanguard', 'Padawans'],\n",
    "        'full-time': ['Foxes', 'Ctrl-Alt-Elite']\n",
    "    },\n",
    "    99: \"Hello World\"\n",
    "}\n"
   ]
  },
  {
   "cell_type": "markdown",
   "metadata": {},
   "source": [
    "##### Accessing Values"
   ]
  },
  {
   "cell_type": "code",
   "execution_count": 34,
   "metadata": {},
   "outputs": [
    {
     "name": "stdout",
     "output_type": "stream",
     "text": [
      "99\n",
      "s\n"
     ]
    }
   ],
   "source": [
    "d1 = {}\n",
    "d2 = dict()\n",
    "d3 = {\n",
    "    \"name\": \"Andrew\",\n",
    "    \"age\": 9000,\n",
    "    \"grades\": [99, 100, 99, 98],\n",
    "    \"classes\": {\n",
    "        'part-time': ['Vanguard', 'Padawans'],\n",
    "        'full-time': ['Foxes', 'Ctrl-Alt-Elite']\n",
    "    },\n",
    "    99: \"Hello World\"\n",
    "}\n",
    "\n",
    "print(d3['grades'][2])\n",
    "\n",
    "print(d3['classes']['part-time'][1][-1])"
   ]
  },
  {
   "cell_type": "markdown",
   "metadata": {},
   "source": [
    "## In-Class Exercise #1 - Print a formatted statement from the dictionary below <br>\n",
    "<p>The output should be '2018 Chevrolet Silverado'</p>"
   ]
  },
  {
   "cell_type": "code",
   "execution_count": 41,
   "metadata": {},
   "outputs": [
    {
     "data": {
      "text/plain": [
       "'2018 Chevrolet Silverado'"
      ]
     },
     "execution_count": 41,
     "metadata": {},
     "output_type": "execute_result"
    }
   ],
   "source": [
    "# use the dict below\n",
    "truck = {\n",
    "    'year': 2018,\n",
    "    'make': 'Chevrolet',\n",
    "    'model': 'Silverado'\n",
    "}\n",
    "\n",
    "print(f\"{truck['year']} {truck['make']} {truck['model']}\")"
   ]
  },
  {
   "cell_type": "markdown",
   "metadata": {},
   "source": [
    "##### Adding New Pairs"
   ]
  },
  {
   "cell_type": "code",
   "execution_count": 43,
   "metadata": {},
   "outputs": [
    {
     "name": "stdout",
     "output_type": "stream",
     "text": [
      "{'name': 'Andrew', 'age': 9000, 'grades': [99, 100, 99, 98], 'classes': {'part-time': ['Vanguard', 'Padawans'], 'full-time': ['Foxes', 'Ctrl-Alt-Elite']}, 99: 'Hello World', 'Car': 'CyberTruck'}\n"
     ]
    }
   ],
   "source": [
    "d3 = {\n",
    "    \"name\": \"Andrew\",\n",
    "    \"age\": 9000,\n",
    "    \"grades\": [99, 100, 99, 98],\n",
    "    \"classes\": {\n",
    "        'part-time': ['Vanguard', 'Padawans'],\n",
    "        'full-time': ['Foxes', 'Ctrl-Alt-Elite']\n",
    "    },\n",
    "    99: \"Hello World\"\n",
    "}\n",
    "\n",
    "# add to dict\n",
    "d3['Car'] = \"CyberTruck\"\n",
    "print(d3)"
   ]
  },
  {
   "cell_type": "markdown",
   "metadata": {},
   "source": [
    "##### Modifying Values"
   ]
  },
  {
   "cell_type": "code",
   "execution_count": null,
   "metadata": {},
   "outputs": [],
   "source": [
    "d3 = {\n",
    "    \"name\": \"Andrew\",\n",
    "    \"age\": 9000,\n",
    "    \"grades\": [99, 100, 99, 98],\n",
    "    \"classes\": {\n",
    "        'part-time': ['Vanguard', 'Padawans'],\n",
    "        'full-time': ['Foxes', 'Ctrl-Alt-Elite']\n",
    "    },\n",
    "    99: \"Hello World\"\n",
    "}\n",
    "\n",
    "# add to dict\n",
    "d3['Car'] = \"CyberTruck\"\n",
    "\n",
    "d3['Car'] = \"BMW\"\n",
    "print(d3)"
   ]
  },
  {
   "cell_type": "markdown",
   "metadata": {},
   "source": [
    "##### Removing Key, Value Pairs"
   ]
  },
  {
   "cell_type": "code",
   "execution_count": 47,
   "metadata": {},
   "outputs": [
    {
     "name": "stdout",
     "output_type": "stream",
     "text": [
      "CyberTruck removed\n",
      "{'name': 'Andrew', 'age': 9000, 'grades': [99, 100, 99, 98], 'classes': {'part-time': ['Vanguard', 'Padawans'], 'full-time': ['Foxes', 'Ctrl-Alt-Elite']}, 99: 'Hello World'}\n",
      "{'name': 'Andrew', 'age': 9000, 'grades': [99, 100, 99, 98], 'classes': {'part-time': ['Vanguard', 'Padawans'], 'full-time': ['Foxes', 'Ctrl-Alt-Elite']}}\n"
     ]
    }
   ],
   "source": [
    "d3 = {\n",
    "    \"name\": \"Andrew\",\n",
    "    \"age\": 9000,\n",
    "    \"grades\": [99, 100, 99, 98],\n",
    "    \"classes\": {\n",
    "        'part-time': ['Vanguard', 'Padawans'],\n",
    "        'full-time': ['Foxes', 'Ctrl-Alt-Elite']\n",
    "    },\n",
    "    99: \"Hello World\"\n",
    "}\n",
    "d3['car'] = \"CyberTruck\"\n",
    "\n",
    "# pop method\n",
    "val = d3.pop('car')\n",
    "print(val, 'removed')\n",
    "print(d3)\n",
    "\n",
    "# del method\n",
    "del d3[99]\n",
    "print(d3)"
   ]
  },
  {
   "cell_type": "markdown",
   "metadata": {},
   "source": [
    "##### Looping a Dictionary"
   ]
  },
  {
   "cell_type": "code",
   "execution_count": 54,
   "metadata": {},
   "outputs": [
    {
     "name": "stdout",
     "output_type": "stream",
     "text": [
      "name key\n",
      "Andrew value\n",
      "age key\n",
      "9000 value\n",
      "grades key\n",
      "[99, 100, 99, 98] value\n",
      "classes key\n",
      "{'part-time': ['Vanguard', 'Padawans'], 'full-time': ['Foxes', 'Ctrl-Alt-Elite']} value\n"
     ]
    },
    {
     "data": {
      "text/plain": [
       "dict_items([('name', 'Andrew'), ('age', 9000), ('grades', [99, 100, 99, 98]), ('classes', {'part-time': ['Vanguard', 'Padawans'], 'full-time': ['Foxes', 'Ctrl-Alt-Elite']})])"
      ]
     },
     "execution_count": 54,
     "metadata": {},
     "output_type": "execute_result"
    }
   ],
   "source": [
    "# .items()\n",
    "# a, b, c = 1, 2, 3\n",
    "# print(a)\n",
    "# print(b)\n",
    "# print(c)\n",
    "\n",
    "d3 = {\n",
    "    \"name\": \"Andrew\",\n",
    "    \"age\": 9000,\n",
    "    \"grades\": [99, 100, 99, 98],\n",
    "    \"classes\": {\n",
    "        'part-time': ['Vanguard', 'Padawans'],\n",
    "        'full-time': ['Foxes', 'Ctrl-Alt-Elite']\n",
    "    }\n",
    "}\n",
    "\n",
    "for key, value in d3.items():\n",
    "    print(key, 'key')\n",
    "    print(value, 'value')\n",
    "\n",
    "d3.items()"
   ]
  },
  {
   "cell_type": "markdown",
   "metadata": {},
   "source": [
    "##### Looping Only Keys"
   ]
  },
  {
   "cell_type": "code",
   "execution_count": 52,
   "metadata": {},
   "outputs": [
    {
     "name": "stdout",
     "output_type": "stream",
     "text": [
      "name\n",
      "age\n",
      "grades\n",
      "classes\n"
     ]
    }
   ],
   "source": [
    "# .keys()\n",
    "d3 = {\n",
    "    \"name\": \"Andrew\",\n",
    "    \"age\": 9000,\n",
    "    \"grades\": [99, 100, 99, 98],\n",
    "    \"classes\": {\n",
    "        'part-time': ['Vanguard', 'Padawans'],\n",
    "        'full-time': ['Foxes', 'Ctrl-Alt-Elite']\n",
    "    }\n",
    "}\n",
    "\n",
    "\n",
    "for key in d3:\n",
    "    print(key)"
   ]
  },
  {
   "cell_type": "markdown",
   "metadata": {},
   "source": [
    "##### Looping Only Values"
   ]
  },
  {
   "cell_type": "code",
   "execution_count": 51,
   "metadata": {},
   "outputs": [
    {
     "name": "stdout",
     "output_type": "stream",
     "text": [
      "Andrew\n",
      "9000\n",
      "[99, 100, 99, 98]\n",
      "{'part-time': ['Vanguard', 'Padawans'], 'full-time': ['Foxes', 'Ctrl-Alt-Elite']}\n"
     ]
    }
   ],
   "source": [
    "# .values()\n",
    "d3 = {\n",
    "    \"name\": \"Andrew\",\n",
    "    \"age\": 9000,\n",
    "    \"grades\": [99, 100, 99, 98],\n",
    "    \"classes\": {\n",
    "        'part-time': ['Vanguard', 'Padawans'],\n",
    "        'full-time': ['Foxes', 'Ctrl-Alt-Elite']\n",
    "    }\n",
    "}\n",
    "\n",
    "for value in d3.values():\n",
    "    print(value)\n"
   ]
  },
  {
   "cell_type": "markdown",
   "metadata": {},
   "source": [
    "## In-Class Exercise #2 - Create a Function that Prints All Key Value Pairs within a print .format() <br>\n",
    "<p><b>Output should be:</b><br>\n",
    "Max has blue eyes<br>\n",
    "Lilly has brown eyes<br>\n",
    "Barney has blue eyes<br>\n",
    "etc.\n",
    "</p>"
   ]
  },
  {
   "cell_type": "code",
   "execution_count": 59,
   "metadata": {},
   "outputs": [
    {
     "name": "stdout",
     "output_type": "stream",
     "text": [
      "Max has blue eyes\n",
      "Lilly has brown eyes\n",
      "Barney has blue eyes\n",
      "Larney has brown eyes\n",
      "Ted has purple eyes\n"
     ]
    }
   ],
   "source": [
    "# use the dict below\n",
    "\n",
    "people = {\n",
    "    'Max': 'blue',\n",
    "    'Lilly': 'brown',\n",
    "    'Barney': 'blue',\n",
    "    'Larney': 'brown',\n",
    "    'Ted': 'purple'\n",
    "}\n",
    "\n",
    "def pairs(dict):\n",
    "    for tup, v in dict.items():\n",
    "        print(tup, \"has\", v, \"eyes\")\n",
    "\n",
    "pairs(people)"
   ]
  },
  {
   "cell_type": "markdown",
   "metadata": {},
   "source": [
    "##### sorted()"
   ]
  },
  {
   "cell_type": "code",
   "execution_count": 61,
   "metadata": {},
   "outputs": [
    {
     "name": "stdout",
     "output_type": "stream",
     "text": [
      "[('Barney', 'blue'), ('Larney', 'brown'), ('Lilly', 'brown'), ('Max', 'blue'), ('Ted', 'purple')]\n",
      "['Barney', 'Larney', 'Lilly', 'Max', 'Ted']\n",
      "['blue', 'blue', 'brown', 'brown', 'purple']\n"
     ]
    }
   ],
   "source": [
    "# sorts variables in order\n",
    "# sorted(dict.values()) or dict.keys() or dict.items()\n",
    "people = {\n",
    "    'Max': 'blue',\n",
    "    'Lilly': 'brown',\n",
    "    'Barney': 'blue',\n",
    "    'Larney': 'brown',\n",
    "    'Ted': 'purple'\n",
    "}\n",
    "\n",
    "print(sorted(people.items())) # everything, both the key and value are printed\n",
    "print(sorted(people.keys()))\n",
    "print(sorted(people.values()))"
   ]
  },
  {
   "cell_type": "markdown",
   "metadata": {},
   "source": [
    "##### List with Dictionaries"
   ]
  },
  {
   "cell_type": "code",
   "execution_count": null,
   "metadata": {},
   "outputs": [],
   "source": [
    "# see above"
   ]
  },
  {
   "cell_type": "markdown",
   "metadata": {},
   "source": [
    "##### Dictionaries with Lists"
   ]
  },
  {
   "cell_type": "code",
   "execution_count": 3,
   "metadata": {},
   "outputs": [
    {
     "name": "stdout",
     "output_type": "stream",
     "text": [
      "jonathan\n",
      "nigel\n",
      "bob\n",
      "jonathan\n"
     ]
    }
   ],
   "source": [
    "# be careful when using numbers as keys in dictionaries, don't confuse them with indexes\n",
    "random_data = {\n",
    "    'list1': [54,8,11],\n",
    "    '2': ['jonathan', 'nigel', 'bob']\n",
    "}\n",
    "\n",
    "for key in random_data['2']: # this function will print out everything in the value of the key\n",
    "    print(key)\n",
    "\n",
    "print(random_data['2'][0])"
   ]
  },
  {
   "cell_type": "markdown",
   "metadata": {},
   "source": [
    "##### Dictionaries with Dictionaries"
   ]
  },
  {
   "cell_type": "code",
   "execution_count": 64,
   "metadata": {},
   "outputs": [
    {
     "data": {
      "text/plain": [
       "'Vanguard'"
      ]
     },
     "execution_count": 64,
     "metadata": {},
     "output_type": "execute_result"
    }
   ],
   "source": [
    "# to get values, must traverse through keys\n",
    "d3 = {\n",
    "    \"name\": \"Andrew\",\n",
    "    \"age\": 9000,\n",
    "    \"grades\": [99, 100, 99, 98],\n",
    "    \"classes\": {\n",
    "        'part-time': ['Vanguard', 'Padawans'],\n",
    "        'full-time': ['Foxes', 'Ctrl-Alt-Elite']\n",
    "    }\n",
    "}\n",
    "\n",
    "d3['classes']['part-time'][0] # calling for the item at index 0 from the key 'part-time' from the key 'classes' which is also a dictionary from the dict 'd3'\n"
   ]
  },
  {
   "cell_type": "markdown",
   "metadata": {},
   "source": [
    "## Dictionaries vs. Lists (over time) Example of RUNTIME\n",
    "### When inputting values in a Dictionary vs List"
   ]
  },
  {
   "cell_type": "code",
   "execution_count": 65,
   "metadata": {},
   "outputs": [],
   "source": [
    "import time\n",
    "\n",
    "\n",
    "# generate fake dictionary\n",
    "d = {}\n",
    "\n",
    "for i in range(10000000):\n",
    "    d[i] = 'value'\n",
    "    \n",
    "\n",
    "# generate fake list\n",
    "big_list = [x for x in range(10000000)]"
   ]
  },
  {
   "cell_type": "code",
   "execution_count": 68,
   "metadata": {},
   "outputs": [
    {
     "name": "stdout",
     "output_type": "stream",
     "text": [
      "value\n",
      "Elapsed time for dictionary: 0.00099945068359375\n",
      "9999999\n",
      "Elapsed time for list: 0.7787971496582031\n"
     ]
    }
   ],
   "source": [
    "# tracking time for dictionary\n",
    "start_time = time.time()\n",
    "\n",
    "print(d[9999999])\n",
    "\n",
    "end_time = time.time() - start_time\n",
    "\n",
    "print('Elapsed time for dictionary: {}'.format(end_time))\n",
    "\n",
    "\n",
    "# tracking time for list\n",
    "start_time = time.time()\n",
    "\n",
    "for i in range(len(big_list)):\n",
    "    if i == 9999999:\n",
    "        print(i)\n",
    "\n",
    "end_time = time.time() - start_time\n",
    "\n",
    "print('Elapsed time for list: {}'.format(end_time))"
   ]
  },
  {
   "cell_type": "markdown",
   "metadata": {},
   "source": [
    "## Exercise #3 - Write a Function that asks someone's name and address, and then stores that into a dictionary, and continues to do so until they choose to 'quit'. Once they quit, the program should print all names and addresses. <br>\n",
    "<p>\n",
    "<b>Proper steps:</b><br>\n",
    "step 1: write a function that takes in information and stores it in a dictionary<br>\n",
    "step 2: define an empty dictionary to work with<br>\n",
    "step 3: create our loop, which asks the user for information until they quit<br>\n",
    "step 4: ask for the information, and store it into variables<br>\n",
    "step 5: check if the user types quit<br>\n",
    "step 5a: print out all information<br>\n",
    "step 5b: break out of the loop<br>\n",
    "step 6: if they didn't quit, add the information to the dictionary<br>\n",
    "step 7: invoke the function by calling it\n",
    "</p>"
   ]
  },
  {
   "cell_type": "code",
   "execution_count": 24,
   "metadata": {},
   "outputs": [],
   "source": [
    "from IPython.display import clear_output\n",
    "# writing code from scratch to practice\n",
    "\n",
    "# help(clear_output)\n",
    "\n",
    "infoDict = {}\n",
    "def tellMe():\n",
    "    answer = input(\"What do you want to do: start or exit? \")\n",
    "    return answer.lower()\n",
    "\n",
    "def tellMeInfo():\n",
    "    ans = tellMe()\n",
    "    while True:\n",
    "        if ans == 'exit':\n",
    "            print(\"Thanks for playing!\", infoDict)\n",
    "            break\n",
    "        elif ans == 'start':\n",
    "            name = input(\"What is your name? \")\n",
    "            address = input(\"What is your address? \")\n",
    "            infoDict[name] = address\n",
    "        else:\n",
    "            print(\"Invalid input. Please try again.\")\n",
    "\n",
    "tellMeInfo()\n",
    "    "
   ]
  },
  {
   "cell_type": "markdown",
   "metadata": {},
   "source": [
    "## Set <br>\n",
    "<p>A Set is an unordered collection data type that is iterable (loop), mutable, and has no duplicate elements.<br>Major advantage is that it is highly optimized in checking if something is in the set, as opposed to checking if something is in a list.</p>"
   ]
  },
  {
   "cell_type": "markdown",
   "metadata": {},
   "source": [
    "##### Declaring"
   ]
  },
  {
   "cell_type": "code",
   "execution_count": null,
   "metadata": {},
   "outputs": [],
   "source": [
    "# set() or {}\n",
    "# no order {3, 2, 1} outputs as {1, 2, 3}\n"
   ]
  },
  {
   "cell_type": "markdown",
   "metadata": {},
   "source": [
    "##### .add()"
   ]
  },
  {
   "cell_type": "code",
   "execution_count": null,
   "metadata": {},
   "outputs": [],
   "source": [
    "# set.add()\n"
   ]
  },
  {
   "cell_type": "markdown",
   "metadata": {},
   "source": [
    "##### .remove()"
   ]
  },
  {
   "cell_type": "code",
   "execution_count": null,
   "metadata": {},
   "outputs": [],
   "source": [
    "# removes by value\n",
    "# set.remove()\n",
    "# nums.remove(56)\n",
    "\n"
   ]
  },
  {
   "cell_type": "markdown",
   "metadata": {},
   "source": [
    "##### .union() "
   ]
  },
  {
   "cell_type": "code",
   "execution_count": null,
   "metadata": {},
   "outputs": [],
   "source": [
    "# Returns a union of two sets, can also use '|' or set.union(set)\n",
    "# joins all numbers, gets rid of duplicates\n"
   ]
  },
  {
   "cell_type": "markdown",
   "metadata": {},
   "source": [
    "##### .intersection()"
   ]
  },
  {
   "cell_type": "code",
   "execution_count": null,
   "metadata": {},
   "outputs": [],
   "source": [
    "# Returns an intersection of two sets, can also use '&'\n",
    "# only takes similar elements from both sets\n",
    "\n"
   ]
  },
  {
   "cell_type": "markdown",
   "metadata": {},
   "source": [
    "##### .difference()"
   ]
  },
  {
   "cell_type": "code",
   "execution_count": null,
   "metadata": {},
   "outputs": [],
   "source": [
    "# Returns a set containing all the elements of invoking set that are not in the second set, can also use '-'\n",
    "# only takes values from the first set that are not in the second set\n",
    "# order matters\n",
    "\n"
   ]
  },
  {
   "cell_type": "markdown",
   "metadata": {},
   "source": [
    "##### .clear()"
   ]
  },
  {
   "cell_type": "code",
   "execution_count": null,
   "metadata": {},
   "outputs": [],
   "source": [
    "# Empties the whole set\n",
    "# set.clear()\n"
   ]
  },
  {
   "cell_type": "markdown",
   "metadata": {},
   "source": [
    "##### Frozenset <br>\n",
    "<p>Frozen sets are immutable objects that only support methods and operators that produce a result without affecting the frozen set or sets to which they are applied.</p><br><b>Unique & Immutable</b>"
   ]
  },
  {
   "cell_type": "code",
   "execution_count": null,
   "metadata": {},
   "outputs": [],
   "source": [
    "# frozenset([])\n"
   ]
  },
  {
   "cell_type": "markdown",
   "metadata": {},
   "source": [
    "## Modules"
   ]
  },
  {
   "cell_type": "markdown",
   "metadata": {},
   "source": [
    "##### Importing Entire Modules"
   ]
  },
  {
   "cell_type": "code",
   "execution_count": 72,
   "metadata": {},
   "outputs": [
    {
     "data": {
      "text/plain": [
       "3.141592653589793"
      ]
     },
     "execution_count": 72,
     "metadata": {},
     "output_type": "execute_result"
    }
   ],
   "source": [
    "# import or from 'xxx' import *\n",
    "# import math\n",
    "import math\n",
    "\n",
    "math.ceil(4.5)\n",
    "math.floor(4.5)\n",
    "math.pi\n"
   ]
  },
  {
   "cell_type": "markdown",
   "metadata": {},
   "source": [
    "##### Importing Methods Only"
   ]
  },
  {
   "cell_type": "code",
   "execution_count": 75,
   "metadata": {},
   "outputs": [
    {
     "data": {
      "text/plain": [
       "3.141592653589793"
      ]
     },
     "execution_count": 75,
     "metadata": {},
     "output_type": "execute_result"
    }
   ],
   "source": [
    "# from 'xxx' import 'xxx'\n",
    "# from math import floor\n",
    "\n",
    "from math import ceil, floor, pi\n",
    "\n",
    "ceil(4.5)\n",
    "floor(4.5)\n",
    "pi"
   ]
  },
  {
   "cell_type": "markdown",
   "metadata": {},
   "source": [
    "##### Using the 'as' Keyword"
   ]
  },
  {
   "cell_type": "code",
   "execution_count": 77,
   "metadata": {},
   "outputs": [
    {
     "data": {
      "text/plain": [
       "120"
      ]
     },
     "execution_count": 77,
     "metadata": {},
     "output_type": "execute_result"
    }
   ],
   "source": [
    "# from 'xxx' import 'xxx' as 'xxx' or import 'xxx' as 'xxx'\n",
    "# from math import floor as f\n",
    "from math import ceil as roundUp\n",
    "from math import factorial as f\n",
    "\n",
    "roundUp(4.5)\n",
    "\n",
    "f(5)\n"
   ]
  },
  {
   "cell_type": "markdown",
   "metadata": {},
   "source": [
    "##### Creating a Module"
   ]
  },
  {
   "cell_type": "code",
   "execution_count": 10,
   "metadata": {},
   "outputs": [],
   "source": [
    "import shohaModule\n"
   ]
  },
  {
   "cell_type": "markdown",
   "metadata": {},
   "source": [
    "# Exercises"
   ]
  },
  {
   "cell_type": "markdown",
   "metadata": {},
   "source": [
    "### 1) Build a Shopping Cart <br>\n",
    "<p><b>You can use either lists or dictionaries. The program should have the following capabilities:</b><br><br>\n",
    "1) Takes in input <br>\n",
    "2) Stores user input into a dictionary or list <br>\n",
    "3) The User can add or delete items <br>\n",
    "4) The User can see current shopping list <br>\n",
    "5) The program Loops until user 'quits' <br>\n",
    "6) Upon quiting the program, print out all items in the user's list <br>\n",
    "</p>"
   ]
  },
  {
   "cell_type": "code",
   "execution_count": 1,
   "metadata": {},
   "outputs": [
    {
     "name": "stdout",
     "output_type": "stream",
     "text": [
      "ice cream added to cart!\n",
      "mozzarella added to cart!\n",
      "chocolate syrup added to cart!\n",
      "relish added to cart!\n",
      "strawberries added to cart!\n",
      "bananas added to cart!\n",
      "Here are the items in your shopping cart:  ['ice cream', 'mozzarella', 'chocolate syrup', 'relish', 'strawberries', 'bananas']\n",
      "relish removed from cart!\n",
      "Thanks for shopping! ['ice cream', 'mozzarella', 'chocolate syrup', 'strawberries', 'bananas']\n"
     ]
    }
   ],
   "source": [
    "from IPython.display import clear_output\n",
    "# Using a User Function in a Loop is helpful for this\n",
    "# Ask the user four bits of input: Do you want to : Show/Add/Delete or Quit?\n",
    "\n",
    "# help(clear_output) - clear_output(wait=False)\n",
    "#     Clear the output of the current cell receiving output.\n",
    "    \n",
    "#     Parameters\n",
    "#     ----------\n",
    "#     wait : bool [default: false]\n",
    "#         Wait to clear the output until new output is available to replace it.\n",
    "\n",
    "# notes written below are to help me understand code better\n",
    "\n",
    "# def shoppingCart: # this part of the code is to ask what the user wants to do with shopping cart\n",
    "\n",
    "shoppingCart = [] # dictionary is faster || empty list is for inputs to be added into\n",
    "def goShop(): # very similar to in-class exercise, prompts for user input\n",
    "    answer = input(\"What would you like to do? Please enter one of the following: Add, Show, Remove, or Quit: \")\n",
    "    return answer.lower()\n",
    "\n",
    "def playShoppingGame():\n",
    "    while True: # means code will run forever until we hit the break\n",
    "        ans = goShop() # pulls answer from the first function/calls the first function into this one\n",
    "        if ans == 'quit':\n",
    "            print(\"Thanks for shopping!\", shoppingCart)\n",
    "            break # this will stop the loop/end the game\n",
    "        elif ans == 'add':\n",
    "            addItem = input(\"What would you like to add? \")\n",
    "            shoppingCart.append(addItem)\n",
    "            print(f\"{addItem} added to cart!\")\n",
    "        elif ans == 'remove':\n",
    "            removeItem = input(\"What would you like to remove? \")\n",
    "            shoppingCart.remove(removeItem)\n",
    "            print(f\"{removeItem} removed from cart!\")\n",
    "        elif ans == 'show':\n",
    "            print(\"Here are the items in your shopping cart: \", shoppingCart)\n",
    "        else:\n",
    "            print(\"Sorry, I'm not sure what you want to do. Please try again.\")\n",
    "\n",
    "playShoppingGame()\n",
    "    \n"
   ]
  },
  {
   "cell_type": "markdown",
   "metadata": {},
   "source": [
    "### 2) Create a Module in VS Code and Import It into jupyter notebook <br>\n",
    "<p><b>Module should have the following capabilities:</b><br><br>\n",
    "1) Has a function to calculate the square footage of a house <br>\n",
    "    <b>Reminder of Formula: Length X Width == Area<br>\n",
    "        <hr>\n",
    "2) Has a function to calculate the circumference of a circle <br><br>\n",
    "<b>Program in Jupyter Notebook should take in user input and use imported functions to calculate a circle's circumference or a houses square footage</b>\n",
    "</p>"
   ]
  },
  {
   "cell_type": "code",
   "execution_count": 2,
   "metadata": {},
   "outputs": [
    {
     "name": "stdout",
     "output_type": "stream",
     "text": [
      "311.01767270538954\n",
      "The square footage of your house is 76832500122\n"
     ]
    }
   ],
   "source": [
    "import math\n",
    "\n",
    "from andrewModule import squareFoot, circle\n",
    "\n",
    "print(circle())\n",
    "\n",
    "print(squareFoot())"
   ]
  },
  {
   "cell_type": "markdown",
   "metadata": {},
   "source": [
    "## Exercise 3 <br>\n",
    "<p>Write a function that takes in two lists and returns the two lists merged together and sorted<br>\n",
    "<b><i>Hint: You can use the .sort() method</i></b></p>"
   ]
  },
  {
   "cell_type": "code",
   "execution_count": 1,
   "metadata": {},
   "outputs": [
    {
     "data": {
      "text/plain": [
       "[1, 2, 3, 3, 4, 4, 5, 5, 6, 6, 7, 8, 10]"
      ]
     },
     "execution_count": 1,
     "metadata": {},
     "output_type": "execute_result"
    }
   ],
   "source": [
    "l_1 = [1,2,3,4,5,6]\n",
    "l_2 = [3,4,5,6,7,8,10]\n",
    "\n",
    "\n",
    "def mergedLists(list1, list2):\n",
    "    merged = list1 + list2\n",
    "    sortedMerged = sorted(merged)\n",
    "    return sortedMerged\n",
    "\n",
    "mergedLists(l_1, l_2)\n"
   ]
  }
 ],
 "metadata": {
  "kernelspec": {
   "display_name": "Python 3.9.13 64-bit",
   "language": "python",
   "name": "python3"
  },
  "language_info": {
   "codemirror_mode": {
    "name": "ipython",
    "version": 3
   },
   "file_extension": ".py",
   "mimetype": "text/x-python",
   "name": "python",
   "nbconvert_exporter": "python",
   "pygments_lexer": "ipython3",
   "version": "3.9.13"
  },
  "vscode": {
   "interpreter": {
    "hash": "08e595c52ca3b9470036b1110e67b559e55f367cabc363f2e28d35631ed95060"
   }
  }
 },
 "nbformat": 4,
 "nbformat_minor": 2
}
